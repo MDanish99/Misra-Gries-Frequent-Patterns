{
 "cells": [
  {
   "cell_type": "code",
   "execution_count": 1,
   "metadata": {},
   "outputs": [],
   "source": [
    "import pandas as pd\n",
    "import numpy as np"
   ]
  },
  {
   "cell_type": "code",
   "execution_count": 2,
   "metadata": {},
   "outputs": [],
   "source": [
    "class FrequentPatterns:\n",
    "    def __init__(self):\n",
    "        self.transactions = []\n",
    "        self.patterns = {}\n",
    "    \n",
    "    def ExtractData(self):\n",
    "        with open(\"trans.txt\") as file:\n",
    "            df = file.readlines()\n",
    "            for i in range(len(df)):\n",
    "                self.transactions.append(list(map(int,df[i].split())))\n",
    "        \n",
    "        import re\n",
    "        with open(\"patterns_Apriori.txt\") as file:\n",
    "            df = file.readlines()\n",
    "            for i in range(len(df)):\n",
    "                pattern = list(map(int,re.split('[,:]',df[i].strip())))\n",
    "                self.patterns[frozenset(pattern[:-1])] = pattern[-1]\n",
    "                \n",
    "    def MisraGries(self, counters = 500000, K = 500):\n",
    "        import math\n",
    "        from collections import Counter\n",
    "        from itertools import combinations\n",
    "        \n",
    "        m = math.ceil(math.log(K+1,2))\n",
    "        L = 0\n",
    "        C = Counter()\n",
    "        \n",
    "        for tran in self.transactions:\n",
    "            subsets = []\n",
    "            for i in range(1,min(m,len(tran))+1):\n",
    "                subsets.extend(list(map(frozenset,combinations(tran,i))))\n",
    "            L += len(subsets)\n",
    "    \n",
    "            for s in subsets:\n",
    "                if s in C or len(C) < counters:\n",
    "                    C[s]+=1\n",
    "                else:\n",
    "                    for j in list(C.keys()):\n",
    "                        C[j]-=1\n",
    "                        if C[j] == 0:\n",
    "                            del C[j]\n",
    "        sorted_C = C.most_common()\n",
    "        t = sorted_C[K-1][1] - L/(counters+1)\n",
    "        A = list(filter(lambda i:i[1] >= t,sorted_C))\n",
    "        min_sup = 1000000000\n",
    "        min_pattern = ''\n",
    "        for (item,sup) in A:\n",
    "            if self.patterns[item] < min_sup:\n",
    "                min_pattern = item\n",
    "                min_sup = self.patterns[item]\n",
    "    \n",
    "        return min_sup,min_pattern,L"
   ]
  },
  {
   "cell_type": "code",
   "execution_count": 3,
   "metadata": {},
   "outputs": [],
   "source": [
    "Patterns = FrequentPatterns()\n",
    "Patterns.ExtractData()"
   ]
  },
  {
   "cell_type": "code",
   "execution_count": 4,
   "metadata": {},
   "outputs": [
    {
     "data": {
      "text/plain": [
       "(1037, frozenset({829}), 59340244)"
      ]
     },
     "execution_count": 4,
     "metadata": {},
     "output_type": "execute_result"
    }
   ],
   "source": [
    "Patterns.MisraGries(counters = 500000)"
   ]
  },
  {
   "cell_type": "code",
   "execution_count": 5,
   "metadata": {},
   "outputs": [
    {
     "data": {
      "text/plain": [
       "(1077, frozenset({77, 151}), 59340244)"
      ]
     },
     "execution_count": 5,
     "metadata": {},
     "output_type": "execute_result"
    }
   ],
   "source": [
    "Patterns.MisraGries(counters = 750000)"
   ]
  },
  {
   "cell_type": "code",
   "execution_count": 6,
   "metadata": {},
   "outputs": [
    {
     "data": {
      "text/plain": [
       "(1098, frozenset({24, 468}), 59340244)"
      ]
     },
     "execution_count": 6,
     "metadata": {},
     "output_type": "execute_result"
    }
   ],
   "source": [
    "Patterns.MisraGries(counters = 1000000)"
   ]
  }
 ],
 "metadata": {
  "kernelspec": {
   "display_name": "Python 3",
   "language": "python",
   "name": "python3"
  },
  "language_info": {
   "codemirror_mode": {
    "name": "ipython",
    "version": 3
   },
   "file_extension": ".py",
   "mimetype": "text/x-python",
   "name": "python",
   "nbconvert_exporter": "python",
   "pygments_lexer": "ipython3",
   "version": "3.8.5"
  }
 },
 "nbformat": 4,
 "nbformat_minor": 4
}
